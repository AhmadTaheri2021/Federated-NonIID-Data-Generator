{
 "cells": [
  {
   "cell_type": "code",
   "execution_count": null,
   "metadata": {},
   "outputs": [],
   "source": [
    "from data_generator.data_partitioning import generate_distributed_datasets \n",
    "import numpy as np\n",
    "# Example data (for demonstration)\n",
    "X_train_example = np.random.rand(1000, 20)\n",
    "Y_train_example = np.random.randint(0, 10, 1000)\n",
    "\n",
    "# Define clients\n",
    "client_names_example = [f'Client_{i}' for i in range(5)]\n",
    "\n",
    "# Define heterogeneity levels (alpha values)\n",
    "alpha_values_example = [0.01, 0.1, 1.0]\n",
    "\n",
    "# Call the function\n",
    "datasets = generate_distributed_datasets(\n",
    "    X_train_example,\n",
    "    Y_train_example,\n",
    "    num_of_clients=5,\n",
    "    client_names=client_names_example,\n",
    "    alpha_values=alpha_values_example,\n",
    "    show_dist=True\n",
    ")\n"
   ]
  }
 ],
 "metadata": {
  "language_info": {
   "name": "python"
  }
 },
 "nbformat": 4,
 "nbformat_minor": 2
}
